{
 "cells": [
  {
   "cell_type": "code",
   "execution_count": null,
   "metadata": {},
   "outputs": [],
   "source": [
    "import cv2\n",
    "from tkinter import *\n",
    "import numpy as np\n",
    "\n",
    "def degistir():\n",
    "    resim.config(img=\"random.img\")\n",
    "\n",
    "pencere=Tk()\n",
    "image = cv2.imread('j.jpg', cv2.IMREAD_GRAYSCALE).astype(float) / 255.0\n",
    "image = cv2.imread('messi5.jpg', cv2.IMREAD_GRAYSCALE).astype(float) / 255.0\n",
    "image = cv2.imread('SanFrancisco.jpg', cv2.IMREAD_GRAYSCALE).astype(float) / 255.0\n",
    "image = cv2.imread('windows.jpg', cv2.IMREAD_GRAYSCALE).astype(float) / 255.0\n",
    "lenf=Button(pencere)\n",
    "lenf.config(text=\"Gözat\")\n",
    "lenf.config(command=degistir)\n",
    "lenf.pack()\n",
    "pencere.mainloop()\n",
    "\n",
    "\n",
    "\n",
    "cv2.imshow('original', image)\n",
    "\n",
    "\n",
    "kernel = np.array([[1, 0, -1],\n",
    "                   [1, 0, -1],\n",
    "                   [1, 0, -1]])\n",
    "filtered = cv2.filter2D(src=image, kernel=kernel, ddepth=-1)\n",
    "cv2.imshow('horizontal edges', filtered)\n",
    "\n",
    "kernel = np.array([[1,  1,  1],\n",
    "                   [0,  0,  0],\n",
    "                   [-1, -1, -1]])\n",
    "filtered = cv2.filter2D(src=image, kernel=kernel, ddepth=-1)\n",
    "cv2.imshow('vertical edges', filtered)\n",
    "\n",
    "\n",
    "kernel = np.array([[1, 1, 1],\n",
    "                   [1, 1, 1],\n",
    "                   [1, 1, 1]]) / 9.0\n",
    "filtered = cv2.filter2D(src=image, kernel=kernel, ddepth=-1)\n",
    "cv2.imshow('blurred', filtered)\n",
    "\n",
    "\n",
    "kernel = (np.array([[-1, -1, -1],\n",
    "                    [-1,  9, -1],\n",
    "                    [-1, -1, -1]]))\n",
    "filtered = cv2.filter2D(src=image, kernel=kernel, ddepth=-1)\n",
    "cv2.imshow('sharpened', filtered)\n",
    "\n",
    "\n",
    "cv2.waitKey(0)\n",
    "cv2.destroyAllWindows()"
   ]
  },
  {
   "cell_type": "code",
   "execution_count": null,
   "metadata": {},
   "outputs": [],
   "source": []
  },
  {
   "cell_type": "code",
   "execution_count": null,
   "metadata": {},
   "outputs": [],
   "source": []
  }
 ],
 "metadata": {
  "kernelspec": {
   "display_name": "Python 3",
   "language": "python",
   "name": "python3"
  },
  "language_info": {
   "codemirror_mode": {
    "name": "ipython",
    "version": 3
   },
   "file_extension": ".py",
   "mimetype": "text/x-python",
   "name": "python",
   "nbconvert_exporter": "python",
   "pygments_lexer": "ipython3",
   "version": "3.7.6"
  }
 },
 "nbformat": 4,
 "nbformat_minor": 4
}
